{
  "cells": [
    {
      "cell_type": "markdown",
      "metadata": {
        "id": "pbwA7e12AVLe"
      },
      "source": [
        "# **Sentiment Analysis using LSTM**\n",
        "In this week's graded assignment, you will implement a neural network that will perform senyiment analysis on movie reviews and classify them as positive or negative.\n",
        "\n",
        "You are to only write/modify the code in between consecutive `# <START>` and `# <END>` comments. DO NOT modify other parts of the notebook, your assignments will not be graded otherwise.\n",
        "\n",
        "```python\n",
        "\"Don't modify any code here\"\n",
        "\n",
        "# <START>\n",
        "\"YOUR CODE GOES HERE!\"\n",
        "# <END>\n",
        "\n",
        "\"Don't modify any code here\"\n",
        "```\n",
        "## **Before you begin**\n",
        "Before you start with the assignment, you will have to upload the CSV file containing the movie reviews you will classify to your Google Drive. Here's a link to the dataset: [Dataset Link](https://drive.google.com/file/d/1nqmfdx7dj5qgynVwzD1CMjFFZoBeKrmD/view?usp=sharing)  \n",
        "Download **reviews.csv** and upload it to your Drive.\n",
        "\n",
        "### **Make sure to upload to the same account that you are using on Colab, otherwise you won't be able to access the files**\n"
      ]
    },
    {
      "cell_type": "markdown",
      "metadata": {
        "id": "D0lIe1uahq_L"
      },
      "source": [
        "## **Mounting Google Drive**\n",
        "First, we need to import the dataset from your Google Drive. To do so, **run the below cell**. This will mount your Drive to the running Colab instance. Then, you will be able to access all your Google Drive data in this notebook."
      ]
    },
    {
      "cell_type": "code",
      "execution_count": 33,
      "metadata": {
        "id": "ObnNbRJPQrYK",
        "outputId": "7ee16544-3a21-4e3b-9cca-284af9df2be3",
        "colab": {
          "base_uri": "https://localhost:8080/",
          "height": 360
        }
      },
      "outputs": [
        {
          "output_type": "error",
          "ename": "KeyboardInterrupt",
          "evalue": "ignored",
          "traceback": [
            "\u001b[0;31m---------------------------------------------------------------------------\u001b[0m",
            "\u001b[0;31mKeyboardInterrupt\u001b[0m                         Traceback (most recent call last)",
            "\u001b[0;32m<ipython-input-33-d5df0069828e>\u001b[0m in \u001b[0;36m<cell line: 2>\u001b[0;34m()\u001b[0m\n\u001b[1;32m      1\u001b[0m \u001b[0;32mfrom\u001b[0m \u001b[0mgoogle\u001b[0m\u001b[0;34m.\u001b[0m\u001b[0mcolab\u001b[0m \u001b[0;32mimport\u001b[0m \u001b[0mdrive\u001b[0m\u001b[0;34m\u001b[0m\u001b[0;34m\u001b[0m\u001b[0m\n\u001b[0;32m----> 2\u001b[0;31m \u001b[0mdrive\u001b[0m\u001b[0;34m.\u001b[0m\u001b[0mmount\u001b[0m\u001b[0;34m(\u001b[0m\u001b[0;34m'/content/drive'\u001b[0m\u001b[0;34m)\u001b[0m\u001b[0;34m\u001b[0m\u001b[0;34m\u001b[0m\u001b[0m\n\u001b[0m",
            "\u001b[0;32m/usr/local/lib/python3.10/dist-packages/google/colab/drive.py\u001b[0m in \u001b[0;36mmount\u001b[0;34m(mountpoint, force_remount, timeout_ms, readonly)\u001b[0m\n\u001b[1;32m    101\u001b[0m \u001b[0;32mdef\u001b[0m \u001b[0mmount\u001b[0m\u001b[0;34m(\u001b[0m\u001b[0mmountpoint\u001b[0m\u001b[0;34m,\u001b[0m \u001b[0mforce_remount\u001b[0m\u001b[0;34m=\u001b[0m\u001b[0;32mFalse\u001b[0m\u001b[0;34m,\u001b[0m \u001b[0mtimeout_ms\u001b[0m\u001b[0;34m=\u001b[0m\u001b[0;36m120000\u001b[0m\u001b[0;34m,\u001b[0m \u001b[0mreadonly\u001b[0m\u001b[0;34m=\u001b[0m\u001b[0;32mFalse\u001b[0m\u001b[0;34m)\u001b[0m\u001b[0;34m:\u001b[0m\u001b[0;34m\u001b[0m\u001b[0;34m\u001b[0m\u001b[0m\n\u001b[1;32m    102\u001b[0m   \u001b[0;34m\"\"\"Mount your Google Drive at the specified mountpoint path.\"\"\"\u001b[0m\u001b[0;34m\u001b[0m\u001b[0;34m\u001b[0m\u001b[0m\n\u001b[0;32m--> 103\u001b[0;31m   return _mount(\n\u001b[0m\u001b[1;32m    104\u001b[0m       \u001b[0mmountpoint\u001b[0m\u001b[0;34m,\u001b[0m\u001b[0;34m\u001b[0m\u001b[0;34m\u001b[0m\u001b[0m\n\u001b[1;32m    105\u001b[0m       \u001b[0mforce_remount\u001b[0m\u001b[0;34m=\u001b[0m\u001b[0mforce_remount\u001b[0m\u001b[0;34m,\u001b[0m\u001b[0;34m\u001b[0m\u001b[0;34m\u001b[0m\u001b[0m\n",
            "\u001b[0;32m/usr/local/lib/python3.10/dist-packages/google/colab/drive.py\u001b[0m in \u001b[0;36m_mount\u001b[0;34m(mountpoint, force_remount, timeout_ms, ephemeral, readonly)\u001b[0m\n\u001b[1;32m    130\u001b[0m   )\n\u001b[1;32m    131\u001b[0m   \u001b[0;32mif\u001b[0m \u001b[0mephemeral\u001b[0m\u001b[0;34m:\u001b[0m\u001b[0;34m\u001b[0m\u001b[0;34m\u001b[0m\u001b[0m\n\u001b[0;32m--> 132\u001b[0;31m     _message.blocking_request(\n\u001b[0m\u001b[1;32m    133\u001b[0m         \u001b[0;34m'request_auth'\u001b[0m\u001b[0;34m,\u001b[0m \u001b[0mrequest\u001b[0m\u001b[0;34m=\u001b[0m\u001b[0;34m{\u001b[0m\u001b[0;34m'authType'\u001b[0m\u001b[0;34m:\u001b[0m \u001b[0;34m'dfs_ephemeral'\u001b[0m\u001b[0;34m}\u001b[0m\u001b[0;34m,\u001b[0m \u001b[0mtimeout_sec\u001b[0m\u001b[0;34m=\u001b[0m\u001b[0;32mNone\u001b[0m\u001b[0;34m\u001b[0m\u001b[0;34m\u001b[0m\u001b[0m\n\u001b[1;32m    134\u001b[0m     )\n",
            "\u001b[0;32m/usr/local/lib/python3.10/dist-packages/google/colab/_message.py\u001b[0m in \u001b[0;36mblocking_request\u001b[0;34m(request_type, request, timeout_sec, parent)\u001b[0m\n\u001b[1;32m    174\u001b[0m       \u001b[0mrequest_type\u001b[0m\u001b[0;34m,\u001b[0m \u001b[0mrequest\u001b[0m\u001b[0;34m,\u001b[0m \u001b[0mparent\u001b[0m\u001b[0;34m=\u001b[0m\u001b[0mparent\u001b[0m\u001b[0;34m,\u001b[0m \u001b[0mexpect_reply\u001b[0m\u001b[0;34m=\u001b[0m\u001b[0;32mTrue\u001b[0m\u001b[0;34m\u001b[0m\u001b[0;34m\u001b[0m\u001b[0m\n\u001b[1;32m    175\u001b[0m   )\n\u001b[0;32m--> 176\u001b[0;31m   \u001b[0;32mreturn\u001b[0m \u001b[0mread_reply_from_input\u001b[0m\u001b[0;34m(\u001b[0m\u001b[0mrequest_id\u001b[0m\u001b[0;34m,\u001b[0m \u001b[0mtimeout_sec\u001b[0m\u001b[0;34m)\u001b[0m\u001b[0;34m\u001b[0m\u001b[0;34m\u001b[0m\u001b[0m\n\u001b[0m",
            "\u001b[0;32m/usr/local/lib/python3.10/dist-packages/google/colab/_message.py\u001b[0m in \u001b[0;36mread_reply_from_input\u001b[0;34m(message_id, timeout_sec)\u001b[0m\n\u001b[1;32m     94\u001b[0m     \u001b[0mreply\u001b[0m \u001b[0;34m=\u001b[0m \u001b[0m_read_next_input_message\u001b[0m\u001b[0;34m(\u001b[0m\u001b[0;34m)\u001b[0m\u001b[0;34m\u001b[0m\u001b[0;34m\u001b[0m\u001b[0m\n\u001b[1;32m     95\u001b[0m     \u001b[0;32mif\u001b[0m \u001b[0mreply\u001b[0m \u001b[0;34m==\u001b[0m \u001b[0m_NOT_READY\u001b[0m \u001b[0;32mor\u001b[0m \u001b[0;32mnot\u001b[0m \u001b[0misinstance\u001b[0m\u001b[0;34m(\u001b[0m\u001b[0mreply\u001b[0m\u001b[0;34m,\u001b[0m \u001b[0mdict\u001b[0m\u001b[0;34m)\u001b[0m\u001b[0;34m:\u001b[0m\u001b[0;34m\u001b[0m\u001b[0;34m\u001b[0m\u001b[0m\n\u001b[0;32m---> 96\u001b[0;31m       \u001b[0mtime\u001b[0m\u001b[0;34m.\u001b[0m\u001b[0msleep\u001b[0m\u001b[0;34m(\u001b[0m\u001b[0;36m0.025\u001b[0m\u001b[0;34m)\u001b[0m\u001b[0;34m\u001b[0m\u001b[0;34m\u001b[0m\u001b[0m\n\u001b[0m\u001b[1;32m     97\u001b[0m       \u001b[0;32mcontinue\u001b[0m\u001b[0;34m\u001b[0m\u001b[0;34m\u001b[0m\u001b[0m\n\u001b[1;32m     98\u001b[0m     if (\n",
            "\u001b[0;31mKeyboardInterrupt\u001b[0m: "
          ]
        }
      ],
      "source": [
        "from google.colab import drive\n",
        "drive.mount('/content/drive')"
      ]
    },
    {
      "cell_type": "markdown",
      "metadata": {
        "id": "ElYLMOGFBq1r"
      },
      "source": [
        "## **Import the Libraries**\n",
        "\n",
        "Run the cell below to import all the necessary libraries for building the sentiment analysis model."
      ]
    },
    {
      "cell_type": "code",
      "execution_count": null,
      "metadata": {
        "id": "eNUw4hS8BrbK"
      },
      "outputs": [],
      "source": [
        "import numpy as np\n",
        "import pandas as pd\n",
        "import seaborn as sns\n",
        "import matplotlib.pyplot as plt\n",
        "import torch\n",
        "import torch.nn as nn\n",
        "import torch.nn.functional as F\n",
        "\n",
        "device = 'cuda' if torch.cuda.is_available() else 'cpu'\n",
        "\n",
        "import nltk\n",
        "nltk.download('punkt')\n",
        "nltk.download('stopwords')\n",
        "nltk.download('wordnet')\n",
        "from nltk.corpus import stopwords\n",
        "from nltk.stem import WordNetLemmatizer\n",
        "from nltk.tokenize import RegexpTokenizer\n",
        "\n",
        "!pip install tqdm\n",
        "from tqdm import tqdm\n",
        "from torch.utils.data import TensorDataset, DataLoader\n",
        "from sklearn.model_selection import train_test_split"
      ]
    },
    {
      "cell_type": "markdown",
      "source": [
        "## **Loading the Dataset**\n",
        "\n",
        "The below cell contains a function `getdata`, which takes as argument the path to `reviews.csv` in your Google Drive, loads the CSV file into a Pandas DataFrame and finally returns the DataFrame.\n",
        "\n",
        "Complete the function and then add the path to `IMDB Dataset.csv` in the space indicated. Run the cell to load the dataset."
      ],
      "metadata": {
        "id": "-q-caOpJ_qhU"
      }
    },
    {
      "cell_type": "code",
      "source": [
        "def getdata(path):\n",
        "\n",
        "  # <START>\n",
        "  df = pd.read_csv(path)\n",
        "  return df\n",
        "  # <END>\n",
        "\n",
        "# Insert the path to the file in the space below\n",
        "# <START>\n",
        "path = '/content/drive/MyDrive/reviews.csv'\n",
        "# <END>\n",
        "\n",
        "df = getdata(path)\n",
        "df.head(100)"
      ],
      "metadata": {
        "id": "lpaOs3EkAgJC"
      },
      "execution_count": null,
      "outputs": []
    },
    {
      "cell_type": "markdown",
      "metadata": {
        "id": "GbRrtTIYBrbM"
      },
      "source": [
        "## **Splitting the Dataset into Training and Testing Data**\n",
        "Complete the below cell that splits the loaded data into training and testing sets. The recommended train:test ratio is 80:20, but feel free to change this later and see how it affects the accuracy of the model. Note that the cell should store the training and testing reviews in `x_train` and `x_test` respectively, and their corresponding sentiments in `y_train` and `y_test` respectively.\n",
        "\n",
        "<details>\n",
        "  <summary>Hint</summary>\n",
        "  Check out the train_test_split function from sklearn.\n",
        "  Do not forget to shuffle the dataset!\n",
        "</details>"
      ]
    },
    {
      "cell_type": "code",
      "execution_count": null,
      "metadata": {
        "id": "2VAB-v2HBrbM"
      },
      "outputs": [],
      "source": [
        "train_df, test_df = train_test_split(df, test_size=0.2, random_state=42, shuffle=True)\n",
        "\n",
        "# <START>\n",
        "x_train = train_df['review']\n",
        "x_test = test_df['review']\n",
        "y_train = train_df['sentiment']\n",
        "y_test = test_df['sentiment']\n",
        "# <END>\n",
        "\n",
        "print(x_train.shape)\n",
        "print(x_test.shape)"
      ]
    },
    {
      "cell_type": "markdown",
      "source": [
        "Before we proceed, let's make sure we have a well distributed training dataset by checking the number of positive and negative reviews it contains.\n",
        "\n",
        "If your values deviate too much from the optimal 50-50 ratio, it is recommended that you modify the above cell to shuffle the dataset differently."
      ],
      "metadata": {
        "id": "IOJcQL3EGVOX"
      }
    },
    {
      "cell_type": "code",
      "source": [
        "count_positive = 0\n",
        "count_negative = 0\n",
        "\n",
        "for i in y_train:\n",
        "  if i == \"positive\":\n",
        "    count_positive += 1\n",
        "  elif i ==\"negative\":\n",
        "    count_negative += 1\n",
        "\n",
        "print(\"Positive reviews:\", count_positive/(count_positive + count_negative)*100, \"%\")\n",
        "print(\"Negative reviews:\", count_negative/(count_positive + count_negative)*100, \"%\")"
      ],
      "metadata": {
        "id": "UBm9-OJ5GiiX"
      },
      "execution_count": null,
      "outputs": []
    },
    {
      "cell_type": "markdown",
      "metadata": {
        "id": "vbF4nskOBrbN"
      },
      "source": [
        "## **Preprocessing**\n",
        "As you saw in last week's assignment, preprocessing a very important step in NLP. Complete the below function to perform the following tasks. The function should take as input a set of reviews `x_train` or `x_test`, and return a list of preprocessed reviews.\n",
        "\n",
        "\n",
        "1.   Case the corpus to lower case\n",
        "2.   Remove punctuation\n",
        "3.   Lemmatize\n",
        "4.   Remove stop words\n",
        "\n",
        "Feel free to refer to last week's assignment for guidance.\n",
        "\n",
        "*Note that as the dataset is much larger this time, the cell may take a while to run.*"
      ]
    },
    {
      "cell_type": "code",
      "execution_count": null,
      "metadata": {
        "id": "TJn1Uqc4BrbO"
      },
      "outputs": [],
      "source": [
        "#The list of stopwords has been coverted into a set, making it faster to check if a given word is in it\n",
        "stop_words = set(stopwords.words('english'))\n",
        "\n",
        "# Using the below tokenizer helps us get rid of punctuation,\n",
        "tokenizer = RegexpTokenizer(r'\\w+')\n",
        "# And the lemmatizer to convert words to simpler forms\n",
        "lemmatizer = WordNetLemmatizer()\n",
        "\n",
        "def preprocess(x_set):\n",
        "    result = []\n",
        "    for i in x_set:\n",
        "      # <START>\n",
        "      # Convert the review to lowercase\n",
        "      i = i.lower()\n",
        "\n",
        "      # Tokenize the review to get individual words\n",
        "      words = tokenizer.tokenize(i)\n",
        "\n",
        "      # Lemmatize the words and remove stop words\n",
        "      out = [lemmatizer.lemmatize(word) for word in words if word not in stop_words]\n",
        "      # <END>\n",
        "      result.append(out)\n",
        "    return result\n",
        "\n",
        "#Testing the function\n",
        "test_preprocess = preprocess([\"This is an assignment.\",'The notebook runs on the cloud.','The cloud, however, is very much on the ground,'])\n",
        "print(test_preprocess)\n",
        "assert test_preprocess == [['assignment'], ['notebook', 'run', 'cloud'], ['cloud', 'however', 'much', 'ground']]\n",
        "\n",
        "x_train_preprocessed = preprocess(x_train)\n",
        "x_test_preprocessed = preprocess(x_test)"
      ]
    },
    {
      "cell_type": "markdown",
      "source": [
        "## **Building the Vocabulary**\n",
        "Complete the below function which takes as argument the preprocessed **training set** and returns a dictionary mapping each unique word to a unique ID. However this time, we shall begin with giving the first word an ID of `1`. The reason for this will become clear soon.\n",
        "\n",
        "Again, feel free to refer to last week's assignment."
      ],
      "metadata": {
        "id": "SNLwSHF4Lcqu"
      }
    },
    {
      "cell_type": "code",
      "source": [
        "def create_vocabulary(x_train_preprocessed):\n",
        "  '''Creates a dictionary with all unique words in corpus with id'''\n",
        "  vocabulary = {}\n",
        "  id = 1\n",
        "  # <START>\n",
        "  #for s in x_train_preprocessed:\n",
        "  for review in x_train_preprocessed:\n",
        "        for word in review:\n",
        "            if word not in vocabulary:\n",
        "                vocabulary[word] = id\n",
        "                id += 1\n",
        "  # <END>\n",
        "  return vocabulary\n",
        "\n",
        "vocabulary = create_vocabulary(x_train_preprocessed)\n",
        "print(len(vocabulary))"
      ],
      "metadata": {
        "id": "FKRU-3xDOLpx"
      },
      "execution_count": null,
      "outputs": []
    },
    {
      "cell_type": "markdown",
      "source": [
        "## **Converting to Numerical Form**\n",
        "Since we need to convert our words into numerical input for the neural network to be able to process it, let's replace the words in our reviews with their corresponding IDs from the vocabulary (not their one-hot embeddings, just their IDs).\n",
        "\n",
        "Complete the below function that takes as input the set of reviews (`x_train_preprocessed` and `x_test_preprocessed`) and converts them to their numerical form.\n"
      ],
      "metadata": {
        "id": "oFsfs_POeMkk"
      }
    },
    {
      "cell_type": "code",
      "source": [
        "def convert_to_numerical(x_set):\n",
        "  converted = []\n",
        "    # <START>\n",
        "  for x in x_set:\n",
        "        numerical_review = []\n",
        "        for word in x:\n",
        "            # Check if the word exists in the vocabulary before retrieving its ID\n",
        "            if word in vocabulary:\n",
        "                numerical_review.append(vocabulary[word])\n",
        "        converted.append(numerical_review)\n",
        "    # <END>\n",
        "  return converted\n",
        "\n",
        "#Testing your function\n",
        "vocab_list = list(vocabulary.keys())\n",
        "print(convert_to_numerical([[vocab_list[47],vocab_list[186],vocab_list[4005]]]))\n",
        "assert convert_to_numerical([[vocab_list[47],vocab_list[186],vocab_list[4005]]]) == [[48, 187, 4006]]"
      ],
      "metadata": {
        "id": "zhjvZjcMhRHI"
      },
      "execution_count": null,
      "outputs": []
    },
    {
      "cell_type": "code",
      "source": [
        "x_train_numerical = convert_to_numerical(x_train_preprocessed)\n",
        "x_test_numerical = convert_to_numerical(x_test_preprocessed)\n",
        "\n",
        "print(len(x_train_numerical))"
      ],
      "metadata": {
        "id": "hkXMWld3ehG9"
      },
      "execution_count": null,
      "outputs": []
    },
    {
      "cell_type": "markdown",
      "source": [
        "Notice that our sentiment labels (`y_train` and `y_test`) currently contain the words `positive` and `negative`. Let's convert them to `1` and `0` respectively."
      ],
      "metadata": {
        "id": "bKjdEgl3ikYE"
      }
    },
    {
      "cell_type": "code",
      "source": [
        "def convert_labels(y_set):\n",
        "  converted=[]\n",
        "    # <START>\n",
        "  sentiment_mapping = {'positive': 1, 'negative': 0}\n",
        "  converted = [sentiment_mapping[label] for label in y_set]\n",
        "    # <END>\n",
        "  return converted\n",
        "\n",
        "assert convert_labels(['positive','negative','positive','positive','negative']) == [1,0,1,1,0]\n",
        "\n",
        "y_train_numerical = convert_labels(y_train)\n",
        "y_test_numerical = convert_labels(y_test)\n",
        "\n",
        "print(len(y_train_numerical))"
      ],
      "metadata": {
        "id": "bkDKnbYHi4tm"
      },
      "execution_count": null,
      "outputs": []
    },
    {
      "cell_type": "markdown",
      "source": [
        "## **Normalizing the Reviews' lengths**\n",
        "Since our reviews have variable lengths, we will employ a technique called **padding**.to normalize them.\n",
        "\n",
        "Run the below cell to analyze the present lengths of our reviews."
      ],
      "metadata": {
        "id": "k97nNtmeTXKn"
      }
    },
    {
      "cell_type": "code",
      "source": [
        "lengths = [len(i) for i in x_train_preprocessed]\n",
        "lengths_sum = sum(lengths)\n",
        "num_lengths = len(lengths)\n",
        "avg_length = lengths_sum/num_lengths\n",
        "max_length = max(lengths)\n",
        "\n",
        "print(\"Average length of reviews: \", avg_length)\n",
        "print(\"Length of the longest review: \", max_length)"
      ],
      "metadata": {
        "id": "lBpGv4w9T4AR"
      },
      "execution_count": null,
      "outputs": []
    },
    {
      "cell_type": "markdown",
      "source": [
        "Padding all the reviews to the maximum length would preserve all our data, but at the same time it would be highly inefficient. Instead, let's settle on an intermediate value of 150 and pad all shorter reviews to 150. As for the longer ones, our model can probably perform sentiment analysis without the *entire* review, so we'll truncate them to 150 words.\n",
        "\n",
        "For this purpose, we shall use a ghost ID of `0` to represent the padding token. This is why we did not give this ID to the first word.\n",
        "\n",
        "Run the below cell to normalize the lengths as mentioned."
      ],
      "metadata": {
        "id": "bveQkxZOWnS8"
      }
    },
    {
      "cell_type": "code",
      "source": [
        "def normalize(x_set, max_length):\n",
        "    temp = np.zeros((len(x_set), max_length),dtype=int)\n",
        "    for i, sentence in enumerate(x_set):\n",
        "        if len(sentence) != 0:\n",
        "            temp[i, -len(sentence):] = np.array(sentence)[:max_length]\n",
        "    return temp\n",
        "\n",
        "max_length = 150\n",
        "\n",
        "x_train_normalized = normalize(x_train_numerical, max_length)\n",
        "x_test_normalized = normalize(x_test_numerical, max_length)"
      ],
      "metadata": {
        "id": "ouVh5UrnZKDT"
      },
      "execution_count": null,
      "outputs": []
    },
    {
      "cell_type": "markdown",
      "metadata": {
        "id": "5CEWbRjXBrbP"
      },
      "source": [
        "## **Converting the Data to Tensors**\n",
        "Now that we are done processing all the reviews, it's time to start building our sentiment analysis model. But first, we'll need to convert our training and testing data into a suitable form.\n",
        "\n",
        "This can be done using the `TensorDataset` class of PyTorch, which creates a dataset containing tensors for input features and labels.\n",
        "\n",
        "Since this class takes only NumPy ndarrays as parameters, we'll need to convert `y_train_numerical` and `y_test_numerical` into ndarrays."
      ]
    },
    {
      "cell_type": "code",
      "source": [
        "final_train_data = TensorDataset(torch.from_numpy(x_train_normalized), torch.tensor(y_train_numerical))\n",
        "final_test_data = TensorDataset(torch.from_numpy(x_test_normalized), torch.tensor(y_test_numerical))"
      ],
      "metadata": {
        "id": "qLVPF86FnW6Z"
      },
      "execution_count": null,
      "outputs": []
    },
    {
      "cell_type": "markdown",
      "source": [
        "## **Loading the Data in Batches**\n",
        "Since our dataset is quite large, loading it all at once won't be feasible. A much more efficient way of loading the dataset is to do it in **batches**. This can be done using PyTorch's DataLoader constructor.\n",
        "\n",
        "The below cell creates `train_batch_loader` and `test_batch_loader`, using the variable `batch_size`.\n",
        "\n",
        "<details>\n",
        "  <summary>Note</summary>\n",
        "The shuffle = True parameter is important, omitting it would defeat the purpose of batching!</details>"
      ],
      "metadata": {
        "id": "pjG46lSurNmF"
      }
    },
    {
      "cell_type": "code",
      "execution_count": null,
      "metadata": {
        "id": "ITFt2pVBBrbP"
      },
      "outputs": [],
      "source": [
        "batch_size = 64\n",
        "\n",
        "train_batch_loader = DataLoader(final_train_data, shuffle=True, batch_size=batch_size)\n",
        "test_batch_loader = DataLoader(final_test_data, shuffle=True, batch_size=batch_size)"
      ]
    },
    {
      "cell_type": "markdown",
      "source": [
        "Run the following cell to visualize an input-labels pair from a batch of the training data. Observe that the size of any set of input features is $[\\textrm{number of batches}, \\textrm{maximum (normalized) length of review}]$."
      ],
      "metadata": {
        "id": "jdaNXixrs_ov"
      }
    },
    {
      "cell_type": "code",
      "execution_count": null,
      "metadata": {
        "id": "0sGdzClJBrbP"
      },
      "outputs": [],
      "source": [
        "sample_batch = train_batch_loader\n",
        "for x, y in sample_batch:\n",
        "  print(\"Input size:\", x.size())\n",
        "  print(\"Input feature: \\n\", x)\n",
        "  print(\"Label: \\n\", y)\n",
        "  break\n"
      ]
    },
    {
      "cell_type": "markdown",
      "metadata": {
        "id": "YlOP0HiBBrbP"
      },
      "source": [
        "## **Building the Model**\n",
        "Complete the below cell to build the RNN model. This time, we will be using **Python classes** to define the model. The class will inherit from `torch.nn.Module`, which is PyTorch's base class for all neural network modules.\n",
        "\n",
        "This time, the model will have 5 parts:\n",
        "- An **Embedding** layer that converts the IDs of all the words in the vocabulary, and converts them to embedding vectors of a defined size  \n",
        "Note that this is basically doing the job of the emdedding model from last time\n",
        "- The **LSTM layer(s)** that will sequentially run through the data.  \n",
        "PyTorch allows you to define multiple continuous LSTM layers with a simpler syntax than having to individually define each one\n",
        "- The **Dropout** layer. This makes sure our model doesn't overfit the training data. With a predefined probability, it excludes certain nodes from the architecture in each training run.\n",
        "- The **Linear** layer. This takes the predicted tokens and converts them into a single prediction on whether or not the sentiment is positive or negative.\n",
        "- Of course, the part of making the predicition a probability is done by the **Sigmoid** layer\n",
        "\n",
        "The forward function has already been written for you. You are to now define these layers in the RNN object.\n",
        "\n",
        "For the LSTM layer, note that the current assignment implements a *batch first* approach."
      ]
    },
    {
      "cell_type": "code",
      "execution_count": null,
      "metadata": {
        "id": "xa8yqaeDBrbP"
      },
      "outputs": [],
      "source": [
        "class RNN_SA(nn.Module):\n",
        "\n",
        "    # CLASS CONSTRUCTOR\n",
        "    def __init__(self, num_layers, hidden_layer_size, embedding_layer_size, output_layer_size, vocabulary_size, dropout_probability=0.5):\n",
        "        super(RNN_SA,self).__init__()\n",
        "\n",
        "        # Initialize the class variables with the values provided as arguments\n",
        "        self.output_layer_size = output_layer_size\n",
        "        self.hidden_dim = hidden_layer_size\n",
        "        self.num_layers = num_layers\n",
        "        self.vocabulary_size = vocabulary_size\n",
        "\n",
        "        # <START>\n",
        "        # Define the embedding layer\n",
        "        self.embedding = nn.Embedding(vocabulary_size, embedding_layer_size)\n",
        "\n",
        "        # Define the LSTM unit\n",
        "        self.lstm = nn.LSTM(embedding_layer_size, hidden_layer_size, num_layers=num_layers, batch_first=True)\n",
        "\n",
        "        # Define the Dropout layer\n",
        "        self.dropout_layer = nn.Dropout(dropout_probability)\n",
        "\n",
        "        # Define the linear hidden layer and output sigmoid layer\n",
        "        self.linear_layer = nn.Linear(hidden_layer_size, output_layer_size)\n",
        "        self.sigmoid_layer = nn.Sigmoid()\n",
        "        # <END>\n",
        "\n",
        "    def forward(self, x):\n",
        "        batch_size = x.size(0)\n",
        "        embeds = self.embedding(x)\n",
        "        lstm_out,_ = self.lstm(embeds)\n",
        "        lstm_out = lstm_out.contiguous().view(-1, self.hidden_dim)\n",
        "        out = self.dropout_layer(lstm_out)\n",
        "        out = self.linear_layer(out)\n",
        "        sig_out = self.sigmoid_layer(out)\n",
        "        sig_out = sig_out.view(batch_size, -1)\n",
        "        sig_out = sig_out[:, -1]\n",
        "        return sig_out"
      ]
    },
    {
      "cell_type": "markdown",
      "source": [
        "Run the below cell to create a model using the class you just defined.\n",
        "\n",
        "<details>\n",
        "  <summary>Why is vocabulary_size = len(vocabulary) + 1?</summary>\n",
        "  The extra 1 is because of the ghost ID 0 we added for padding\n",
        "</details>"
      ],
      "metadata": {
        "id": "b6Evd1FaS857"
      }
    },
    {
      "cell_type": "code",
      "execution_count": null,
      "metadata": {
        "id": "9R_KCEx7BrbQ"
      },
      "outputs": [],
      "source": [
        "num_layers = 2\n",
        "vocabulary_size = len(vocabulary) + 1\n",
        "embedding_layer_size = 64\n",
        "output_layer_size = 1\n",
        "hidden_layer_size = 256\n",
        "\n",
        "\n",
        "model = RNN_SA(num_layers, hidden_layer_size, embedding_layer_size, output_layer_size, vocabulary_size, dropout_probability=0.3)\n",
        "\n",
        "print(model)"
      ]
    },
    {
      "cell_type": "markdown",
      "source": [
        "Expected:\n",
        "```console\n",
        "RNN_SA(\n",
        "  (embedding): Embedding(VOCAB_SIZE, 64)\n",
        "  (lstm): LSTM(64, 256, num_layers=2, batch_first=True)\n",
        "  (dropout_layer): Dropout(p=0.3, inplace=False)\n",
        "  (linear_layer): Linear(in_features=256, out_features=1, bias=True)\n",
        "  (sigmoid_layer): Sigmoid()\n",
        ")\n",
        "```"
      ],
      "metadata": {
        "id": "D2RgepLVT1mg"
      }
    },
    {
      "cell_type": "markdown",
      "source": [
        "On the off-chance that your notebook ever died mid-training, in the training section we've implemented a saving mechanism that saves your model to your Drive if it improves from the previous epoch.\n",
        "\n",
        "Just set the aptly names variable to `True` and run this cell. Remember to set it back to `False` afterwards."
      ],
      "metadata": {
        "id": "-MA_HOXOYCHy"
      }
    },
    {
      "cell_type": "code",
      "source": [
        "MY_NOTEBOOK_DIED_MID_TRAINING = False\n",
        "\n",
        "if MY_NOTEBOOK_DIED_MID_TRAINING:\n",
        "  model = torch.load('/content/drive/MyDrive/state_dict.pt')"
      ],
      "metadata": {
        "id": "6k0rFhpcS7JD"
      },
      "execution_count": null,
      "outputs": []
    },
    {
      "cell_type": "markdown",
      "metadata": {
        "id": "aVdOn9zDBrbQ"
      },
      "source": [
        "## **Training the Model**\n",
        "Now that we have our model, let's begin training it on our training data. The hyperparameters have been defined for you. You might notice that the number of epochs is quite low; this is because each epoch takes a pretty long time to run and a model trained with even 5 epochs would take over an hour to finish training.\n",
        "\n",
        "Since our model is a binary classifier trained to predict 0 and 1, we can use Binary Cross Entropy loss to measure the loss.\n",
        "\n",
        "Unlike in the first week's assignment, you will not need to explicitly update the parameters after each run of gradient descent, we have imported an optimizer that takes care of this.\n",
        "\n",
        "We have also given you a function `accuracy`, that takes as arguments the predictions generated by the model and the corresponding true values, and returns the accuracy.\n"
      ]
    },
    {
      "cell_type": "markdown",
      "source": [
        "\n",
        "Your task is to complete the rest of the cell and train the model.\n",
        "\n",
        "**Again, each epoch could take upto 15 minutes to run, so please be patient!**\n",
        "\n",
        "If your notebook ever dies mid-training, go to the cell below this one.\n",
        "<details>\n",
        "  <summary>What do model.train() and model.epoch do?</summary>\n",
        "  Checkout https://stackoverflow.com/questions/60018578/what-does-model-eval-do-in-pytorch\n",
        "</details>"
      ],
      "metadata": {
        "id": "waP6OQiNZYNt"
      }
    },
    {
      "cell_type": "code",
      "execution_count": 32,
      "metadata": {
        "id": "Z49izPtgBrbQ",
        "outputId": "b6e24849-12d0-4d6a-e68f-54732f65dc22",
        "colab": {
          "base_uri": "https://localhost:8080/"
        }
      },
      "outputs": [
        {
          "output_type": "stream",
          "name": "stderr",
          "text": [
            "Training: 100%|██████████| 625/625 [09:16<00:00,  1.12it/s]\n"
          ]
        },
        {
          "output_type": "stream",
          "name": "stdout",
          "text": [
            "Epoch 1\n",
            "train_loss : 378.2730438709259 test_loss : 101.26124238967896\n",
            "train_accuracy : 67.51 test_accuracy : 58.57\n",
            "Validation loss decreased (inf --> 101.261242).  Saving model ...\n",
            "======================================================================\n"
          ]
        },
        {
          "output_type": "stream",
          "name": "stderr",
          "text": [
            "Training: 100%|██████████| 625/625 [09:07<00:00,  1.14it/s]\n"
          ]
        },
        {
          "output_type": "stream",
          "name": "stdout",
          "text": [
            "Epoch 2\n",
            "train_loss : 312.846796259284 test_loss : 62.88266696035862\n",
            "train_accuracy : 75.9 test_accuracy : 82.09\n",
            "Validation loss decreased (101.261242 --> 62.882667).  Saving model ...\n",
            "======================================================================\n"
          ]
        },
        {
          "output_type": "stream",
          "name": "stderr",
          "text": [
            "Training: 100%|██████████| 625/625 [09:03<00:00,  1.15it/s]\n"
          ]
        },
        {
          "output_type": "stream",
          "name": "stdout",
          "text": [
            "Epoch 3\n",
            "train_loss : 220.3627306520939 test_loss : 52.56961150467396\n",
            "train_accuracy : 85.0125 test_accuracy : 85.11\n",
            "Validation loss decreased (62.882667 --> 52.569612).  Saving model ...\n",
            "======================================================================\n"
          ]
        }
      ],
      "source": [
        "learning_rate = 1e-3\n",
        "num_epochs = 3\n",
        "\n",
        "criterion = nn.BCELoss()\n",
        "optimizer = torch.optim.Adam(model.parameters(), lr = learning_rate)\n",
        "\n",
        "def accuracy(prediction, label):\n",
        "    prediction = torch.round(prediction.squeeze())\n",
        "    return torch.sum(prediction == label.squeeze()).item()\n",
        "\n",
        "min_loss_attained = np.Inf    # this variable will contain the minimum value of the loss function attained in any of the epochs.\n",
        "                              #It is used to discard the results of further epochs if their losses are more than min_loss_attained.\n",
        "\n",
        "epoch_train_loss,epoch_test_loss = [],[]\n",
        "epoch_train_acc,epoch_test_acc = [],[]    # These lists will hold the average loss and accuracy values of each epoch\n",
        "\n",
        "\n",
        "\n",
        "for epoch in range(num_epochs):\n",
        "  train_losses = 0.0\n",
        "  train_accuracy = 0.0\n",
        "\n",
        "  progress_bar = tqdm(total=len(train_batch_loader), desc='Training', leave = True)  # You don't need to worry about this line,\n",
        "                                                                                          # it's just to display a progress bar that shows the percentage trained\n",
        "\n",
        "  model.train()\n",
        "\n",
        "  for inputs, labels in train_batch_loader:\n",
        "    inputs, labels = inputs.to(device), labels.to(device)\n",
        "\n",
        "    # <START>\n",
        "    # Don't forget to reset the gradients before beginning!\n",
        "    optimizer.zero_grad()\n",
        "    output = model(inputs)\n",
        "\n",
        "    # compute the loss and implement the back propagation step\n",
        "    loss = criterion(output.squeeze(), labels.float())\n",
        "    loss.backward()\n",
        "\n",
        "    # <END>\n",
        "\n",
        "    # Calculating loss and accuracy; we will store the cumulative values and finally use them to compute the average loss and accuracy of the epoch\n",
        "    train_losses += loss.item()\n",
        "    acc = accuracy(output,labels)\n",
        "    train_accuracy += acc\n",
        "\n",
        "    nn.utils.clip_grad_norm_(model.parameters(), 5) # This line helps avoid the exploding gradient problem\n",
        "\n",
        "    optimizer.step()\n",
        "\n",
        "    progress_bar.update(1)\n",
        "\n",
        "  progress_bar.close()\n",
        "\n",
        "  # After the training run of each epoch, we will evaluate the performance of our model\n",
        "\n",
        "  test_losses = 0.0  # Again, this will store cumulative loss\n",
        "  test_accuracy = 0.0   # and this will store cumulative test accuracy\n",
        "\n",
        "  model.eval()\n",
        "\n",
        "  for inputs, labels in test_batch_loader:\n",
        "    inputs, labels = inputs.to(device), labels.to(device)\n",
        "\n",
        "    # <START>   # Compute the loss\n",
        "    output =model(inputs)\n",
        "    test_loss =criterion(output.squeeze(), labels.float())\n",
        "    # <END>\n",
        "\n",
        "    test_losses += test_loss.item()\n",
        "\n",
        "    acc = accuracy(output,labels)\n",
        "    test_accuracy += acc\n",
        "\n",
        "\n",
        "  epoch_train_accuracy = train_accuracy/len(train_batch_loader.dataset)\n",
        "  epoch_test_accuracy = test_accuracy/len(test_batch_loader.dataset)\n",
        "\n",
        "\n",
        "  avg_train_loss = np.mean(train_losses)\n",
        "  avg_test_loss = np.mean(test_losses)\n",
        "\n",
        "  epoch_train_loss.append(avg_train_loss)\n",
        "  epoch_test_loss.append(avg_test_loss)\n",
        "  epoch_test_acc.append(epoch_test_accuracy)\n",
        "  epoch_train_acc.append(epoch_train_accuracy)\n",
        "\n",
        "  print(f'Epoch {epoch+1}')\n",
        "  print(f'train_loss : {avg_train_loss} test_loss : {avg_test_loss}')\n",
        "  print(f'train_accuracy : {epoch_train_accuracy*100} test_accuracy : {epoch_test_accuracy*100}')\n",
        "  if avg_test_loss < min_loss_attained:\n",
        "    torch.save(model.state_dict(), '/content/drive/MyDrive/state_dict.pt')\n",
        "    print('Validation loss decreased ({:.6f} --> {:.6f}).  Saving model ...'.format(min_loss_attained, avg_test_loss))\n",
        "    min_loss_attained = avg_test_loss\n",
        "  print(70*'=')\n"
      ]
    },
    {
      "cell_type": "markdown",
      "source": [
        "Let's visualize the accuracy and loss of our model graphically. Run the below cell to generate plots for the same."
      ],
      "metadata": {
        "id": "X_UPDcpRk8HI"
      }
    },
    {
      "cell_type": "code",
      "execution_count": 34,
      "metadata": {
        "id": "vtl0ZSZFBrbQ",
        "outputId": "37f81591-740a-46da-a76b-4a61301024cc",
        "colab": {
          "base_uri": "https://localhost:8080/",
          "height": 286
        }
      },
      "outputs": [
        {
          "output_type": "display_data",
          "data": {
            "text/plain": [
              "<Figure size 2000x600 with 2 Axes>"
            ],
            "image/png": "[encoded data removed]"
          },
          "metadata": {}
        }
      ],
      "source": [
        "fig = plt.figure(figsize = (20, 6))\n",
        "plt.subplot(1, 2, 1)\n",
        "plt.plot(epoch_train_acc, label='Training Accuracy')\n",
        "plt.plot(epoch_test_acc, label='Testing Accuracy')\n",
        "plt.title(\"Accuracy\")\n",
        "plt.legend()\n",
        "plt.grid()\n",
        "\n",
        "plt.subplot(1, 2, 2)\n",
        "plt.plot(epoch_train_loss, label='Training loss')\n",
        "plt.plot(epoch_test_loss, label='Testing loss')\n",
        "plt.title(\"Loss\")\n",
        "plt.legend()\n",
        "plt.grid()\n",
        "\n",
        "plt.show()"
      ]
    }
  ],
  "metadata": {
    "colab": {
      "provenance": []
    },
    "kernelspec": {
      "display_name": "Python 3",
      "language": "python",
      "name": "python3"
    },
    "language_info": {
      "codemirror_mode": {
        "name": "ipython",
        "version": 3
      },
      "file_extension": ".py",
      "mimetype": "text/x-python",
      "name": "python",
      "nbconvert_exporter": "python",
      "pygments_lexer": "ipython3",
      "version": "3.6.6"
    }
  },
  "nbformat": 4,
  "nbformat_minor": 0
}